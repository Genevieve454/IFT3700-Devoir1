{
 "cells": [
  {
   "cell_type": "markdown",
   "id": "0cd2bfda",
   "metadata": {},
   "source": [
    "# Devoir 1 | PARTIE 1 : MNIST"
   ]
  },
  {
   "cell_type": "raw",
   "id": "e4799931",
   "metadata": {},
   "source": [
    "Importons d'abord MNIST.csv "
   ]
  },
  {
   "cell_type": "code",
   "execution_count": 1,
   "id": "2249de78",
   "metadata": {},
   "outputs": [],
   "source": [
    "import csv                  \n",
    "\n",
    "data = open('mnist_train.csv')\n",
    "csv_file = csv.reader(data)\n",
    "data_points = []\n",
    "\n",
    "for row in csv_file:\n",
    "    data_points.append(row)\n",
    "\n",
    "#On enlève la première ligne, soit les \"headers\" de nos colonnes\n",
    "data_points.pop(0)\n",
    "\n",
    "data.close()"
   ]
  },
  {
   "cell_type": "raw",
   "id": "b8cb71ab",
   "metadata": {},
   "source": [
    "Les données ont été importées, mais en string. On va les cast en int pour pouvoir travailler dessus "
   ]
  },
  {
   "cell_type": "code",
   "execution_count": 2,
   "id": "64f852cf",
   "metadata": {},
   "outputs": [],
   "source": [
    "for i in range(len(data_points)):\n",
    "    for j in range(0,785):\n",
    "            data_points[i][j] = int(data_points[i][j])"
   ]
  },
  {
   "cell_type": "raw",
   "id": "0c301bff",
   "metadata": {},
   "source": [
    "Maintenant, nous voulons partionner nos données. On peut alors se passer des étiquettes (Pas de supervision)."
   ]
  },
  {
   "cell_type": "code",
   "execution_count": 3,
   "id": "acc994b7",
   "metadata": {},
   "outputs": [],
   "source": [
    "# Étiquettes \n",
    "y_train = []                     \n",
    "for row in data_points:\n",
    "    y_train.append(row[0])\n",
    "    \n",
    "# Données sans étiquettes\n",
    "x_train = []\n",
    "for row in data_points:\n",
    "    x_train.append(row[1:785])"
   ]
  },
  {
   "cell_type": "raw",
   "id": "914fcebd",
   "metadata": {},
   "source": [
    "Pré traitement des données: Simplifier les pixels qui sont en niveau de gris (0-253) en noir et blanc (0-1). "
   ]
  },
  {
   "cell_type": "code",
   "execution_count": 4,
   "id": "55bb5484",
   "metadata": {},
   "outputs": [],
   "source": [
    "import numpy as np\n",
    "import matplotlib.pyplot as plt"
   ]
  },
  {
   "cell_type": "code",
   "execution_count": 5,
   "id": "0f9da0f5",
   "metadata": {},
   "outputs": [],
   "source": [
    "for i in range(len(x_train)):\n",
    "    for j in range(len(x_train[0])):\n",
    "        if x_train[i][j] != 0 :\n",
    "            #Nous devons diviser par 255.0 et non 255 pour convertir ces int en float\n",
    "            x_train[i][j] = round(int(x_train[i][j]) / 255.0)"
   ]
  },
  {
   "cell_type": "code",
   "execution_count": 6,
   "id": "7186b5e5",
   "metadata": {
    "scrolled": true
   },
   "outputs": [
    {
     "data": {
      "image/png": "[encoded data removed]",
      "text/plain": [
       "<Figure size 432x288 with 1 Axes>"
      ]
     },
     "metadata": {
      "needs_background": "light"
     },
     "output_type": "display_data"
    }
   ],
   "source": [
    "#Conversion de notre vecteur d'une dimension en 2 dimensions\n",
    "matrix = np.reshape(x_train[21], (28,28))\n",
    "\n",
    "plt.imshow(matrix, cmap='gray')\n",
    "plt.show()"
   ]
  },
  {
   "cell_type": "raw",
   "id": "da7f83f2",
   "metadata": {},
   "source": [
    "Séparons aléatoirement nos données en deux jeux de données afin d'éviter le overfitting "
   ]
  },
  {
   "cell_type": "code",
   "execution_count": 12,
   "id": "81dc18d1",
   "metadata": {},
   "outputs": [],
   "source": [
    "from sklearn.model_selection import train_test_split\n",
    "\n",
    "X_train, X_test, Y_train, Y_test = train_test_split(x_train, y_train, test_size=0.33, stratify=y_train, random_state=0)"
   ]
  },
  {
   "cell_type": "raw",
   "id": "985ed377",
   "metadata": {},
   "source": [
    "Il est facile de vérifier que la séparation est bien faite. En effet, il suffit de dessiner le nombre (X_train ou X_test) et de print son label correspondant (Y_train ou Y_test). Par exemple, comme suit: "
   ]
  },
  {
   "cell_type": "code",
   "execution_count": 13,
   "id": "fe7d1d8b",
   "metadata": {},
   "outputs": [
    {
     "name": "stdout",
     "output_type": "stream",
     "text": [
      "1\n"
     ]
    },
    {
     "data": {
      "image/png": "[encoded data removed]",
      "text/plain": [
       "<Figure size 432x288 with 1 Axes>"
      ]
     },
     "metadata": {
      "needs_background": "light"
     },
     "output_type": "display_data"
    }
   ],
   "source": [
    "print(Y_test[21])\n",
    "#Conversion de notre vecteur d'une dimension en 2 dimensions\n",
    "matrix = np.reshape(X_test[21], (28,28))\n",
    "\n",
    "plt.imshow(matrix, cmap='gray')\n",
    "plt.show()"
   ]
  },
  {
   "cell_type": "code",
   "execution_count": 14,
   "id": "2a7e72dc",
   "metadata": {},
   "outputs": [
    {
     "data": {
      "text/plain": [
       "0.954949494949495"
      ]
     },
     "execution_count": 14,
     "metadata": {},
     "output_type": "execute_result"
    }
   ],
   "source": [
    "from sklearn import neighbors\n",
    "\n",
    "clf = neighbors.KNeighborsClassifier(n_neighbors=9)\n",
    "clf.fit(X_train, Y_train)\n",
    "predicted = clf.predict(X_test)\n",
    "clf.score(X_test, Y_test)"
   ]
  },
  {
   "cell_type": "raw",
   "id": "cd4f83eb",
   "metadata": {},
   "source": [
    "D'ailleurs, on peut jeter un oeil aux valeurs prédites par notre modèle ainsi que les valeurs (labels) réelles: "
   ]
  },
  {
   "cell_type": "code",
   "execution_count": 15,
   "id": "ad05c8ff",
   "metadata": {},
   "outputs": [
    {
     "name": "stdout",
     "output_type": "stream",
     "text": [
      "[4 4 8 2 5 9 0 6 2 0 0 1 2 4 3 8 5 8 1 2 6 1 9 4 0 1 6 8 3 5]\n",
      "[4, 4, 8, 2, 5, 9, 0, 6, 2, 0, 0, 1, 2, 4, 3, 8, 5, 8, 1, 2, 6, 1, 9, 4, 0, 1, 6, 8, 3, 5]\n"
     ]
    }
   ],
   "source": [
    "print(predicted[0:30]) \n",
    "print(Y_test[0:30])"
   ]
  },
  {
   "cell_type": "raw",
   "id": "23d39be5",
   "metadata": {},
   "source": [
    "Maintenant, on peut se demander quelle métrique pourrait être aussi efficace que la distance euclidienne. Nous avons plusieurs pistes : \n",
    "\n",
    "Le plus simple serait simplement de compter le nombre de pixels totaux et de comparer. On peut assumer que certains nombres comme \"8\" sont généralement représentés avec plus de pixels que les nombres comme \"1\". Mais est-ce suffisant? \n",
    "\n",
    "(a) Aussi, nous pouvons calculer le perimètre, c'est-à-dire les pixels sur la frontière du nombre. Enfaite, il serait plus judicieux de calculer le rapport entre le perimètre et le nombre de pixels total. Ainsi, par exemple, si le nombre \"4\" a une frontière de 20pixels et un total 40 pixels en règle générale. Si on tombe sur un nombre \"4\" avec une frontière de 40 pixels et un total de 80 pixels, le rapport reste le même. Cela vient du fait que le nombre de pixels sur la frontière dépend du nombre de pixels total. \n",
    "\n",
    "\n",
    "(b) Enfin, une idée intéressante, au lieu de compter le nombre de pixels total. Ca serait mieux de deviser la matrice en 4 sous-matrices égales et compter le nombre de points dans chacune d'entre elles. Il est fort probable qu'un \"0\" aura tendance à avoir ses pixels bien répartis dans les 4 sous matrices. Tandis que le nombre \"1\" non. \n",
    "\n",
    "\n",
    "En combinant (a) et (b) dans notre fonction de similarité , nous pouvons atteindre une précision intéressante. Nous allons revenir là-dessus plus tard. "
   ]
  },
  {
   "cell_type": "raw",
   "id": "d0a0b195",
   "metadata": {},
   "source": [
    "Bon , on semble bien se débrouiller avec KNeighborsClassifier. Intéressons-nous plutôt à k-moyenne qui est non-supervisé."
   ]
  },
  {
   "cell_type": "code",
   "execution_count": null,
   "id": "5259ed75",
   "metadata": {},
   "outputs": [],
   "source": [
    "from sklearn.cluster import KMeans \n",
    "#y_pred = KMeans(n_clusters=9).fit_predict(X_train)\n",
    "clustering = KMeans(n_clusters=9).fit()\n",
    "print(clustering[1:3])\n",
    "\n",
    "from pyclustering.cluster.kmedoids import kmedoids\n",
    "\n",
    "initial_medoids = [0,1,2]\n",
    "\n",
    "# ici, nous donnons directement notre matrice de distance\n",
    "# il faut spécifier data_type='distance_matrix'\n",
    "kmedoids_instance = kmedoids(D, initial_medoids, data_type='distance_matrix')\n",
    "\n",
    "kmedoids_instance.process()\n",
    "clusters = kmedoids_instance.get_clusters()\n",
    "medoids = kmedoids_instance.get_medoids()\n"
   ]
  },
  {
   "cell_type": "code",
   "execution_count": 33,
   "id": "f082b07c",
   "metadata": {},
   "outputs": [
    {
     "name": "stdout",
     "output_type": "stream",
     "text": [
      "5\n"
     ]
    },
    {
     "data": {
      "image/png": "[encoded data removed]",
      "text/plain": [
       "<Figure size 432x288 with 1 Axes>"
      ]
     },
     "metadata": {
      "needs_background": "light"
     },
     "output_type": "display_data"
    },
    {
     "name": "stdout",
     "output_type": "stream",
     "text": [
      "6\n"
     ]
    },
    {
     "data": {
      "image/png": "[encoded data removed]",
      "text/plain": [
       "<Figure size 432x288 with 1 Axes>"
      ]
     },
     "metadata": {
      "needs_background": "light"
     },
     "output_type": "display_data"
    },
    {
     "name": "stdout",
     "output_type": "stream",
     "text": [
      "3\n"
     ]
    },
    {
     "data": {
      "image/png": "[encoded data removed]",
      "text/plain": [
       "<Figure size 432x288 with 1 Axes>"
      ]
     },
     "metadata": {
      "needs_background": "light"
     },
     "output_type": "display_data"
    },
    {
     "name": "stdout",
     "output_type": "stream",
     "text": [
      "1\n"
     ]
    },
    {
     "data": {
      "image/png": "[encoded data removed]",
      "text/plain": [
       "<Figure size 432x288 with 1 Axes>"
      ]
     },
     "metadata": {
      "needs_background": "light"
     },
     "output_type": "display_data"
    },
    {
     "name": "stdout",
     "output_type": "stream",
     "text": [
      "8\n"
     ]
    },
    {
     "data": {
      "image/png": "[encoded data removed]",
      "text/plain": [
       "<Figure size 432x288 with 1 Axes>"
      ]
     },
     "metadata": {
      "needs_background": "light"
     },
     "output_type": "display_data"
    },
    {
     "name": "stdout",
     "output_type": "stream",
     "text": [
      "8\n"
     ]
    },
    {
     "data": {
      "image/png": "[encoded data removed]",
      "text/plain": [
       "<Figure size 432x288 with 1 Axes>"
      ]
     },
     "metadata": {
      "needs_background": "light"
     },
     "output_type": "display_data"
    },
    {
     "name": "stdout",
     "output_type": "stream",
     "text": [
      "0\n"
     ]
    },
    {
     "data": {
      "image/png": "[encoded data removed]",
      "text/plain": [
       "<Figure size 432x288 with 1 Axes>"
      ]
     },
     "metadata": {
      "needs_background": "light"
     },
     "output_type": "display_data"
    },
    {
     "name": "stdout",
     "output_type": "stream",
     "text": [
      "4\n"
     ]
    },
    {
     "data": {
      "image/png": "[encoded data removed]",
      "text/plain": [
       "<Figure size 432x288 with 1 Axes>"
      ]
     },
     "metadata": {
      "needs_background": "light"
     },
     "output_type": "display_data"
    },
    {
     "name": "stdout",
     "output_type": "stream",
     "text": [
      "6\n"
     ]
    },
    {
     "data": {
      "image/png": "[encoded data removed]",
      "text/plain": [
       "<Figure size 432x288 with 1 Axes>"
      ]
     },
     "metadata": {
      "needs_background": "light"
     },
     "output_type": "display_data"
    },
    {
     "name": "stdout",
     "output_type": "stream",
     "text": [
      "2\n"
     ]
    },
    {
     "data": {
      "image/png": "[encoded data removed]",
      "text/plain": [
       "<Figure size 432x288 with 1 Axes>"
      ]
     },
     "metadata": {
      "needs_background": "light"
     },
     "output_type": "display_data"
    }
   ],
   "source": [
    "for i in range(10): \n",
    "    print(y_pred[i])\n",
    "\n",
    "    matrix = np.reshape(X_train[i], (28,28))\n",
    "    plt.imshow(matrix, cmap='gray')\n",
    "    plt.show()"
   ]
  },
  {
   "cell_type": "code",
   "execution_count": null,
   "id": "9949e521",
   "metadata": {},
   "outputs": [],
   "source": []
  },
  {
   "cell_type": "code",
   "execution_count": null,
   "id": "308a5f1e",
   "metadata": {},
   "outputs": [],
   "source": []
  }
 ],
 "metadata": {
  "kernelspec": {
   "display_name": "Python 3",
   "language": "python",
   "name": "python3"
  },
  "language_info": {
   "codemirror_mode": {
    "name": "ipython",
    "version": 3
   },
   "file_extension": ".py",
   "mimetype": "text/x-python",
   "name": "python",
   "nbconvert_exporter": "python",
   "pygments_lexer": "ipython3",
   "version": "3.8.8"
  }
 },
 "nbformat": 4,
 "nbformat_minor": 5
}
